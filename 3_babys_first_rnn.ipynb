{
 "cells": [
  {
   "cell_type": "code",
   "execution_count": 12,
   "metadata": {},
   "outputs": [],
   "source": [
    "import numpy as np \n",
    "import torch\n",
    "import torch.nn as nn\n",
    "import matplotlib.pyplot as plt"
   ]
  },
  {
   "cell_type": "code",
   "execution_count": 17,
   "metadata": {},
   "outputs": [],
   "source": [
    "class AutoRegressiveMLP(nn.Module):\n",
    "\n",
    "    def __init__(self, state_size, hidden_size):\n",
    "        super().__init__()\n",
    "        self.state_size = state_size\n",
    "        self.hidden_size = hidden_size\n",
    "        self.mlp = nn.Sequential(\n",
    "            nn.Linear(state_size, hidden_size),\n",
    "            nn.ReLU(),\n",
    "            nn.Linear(hidden_size, state_size)\n",
    "        )\n",
    "\n",
    "    def iterate_once(self, x):\n",
    "        return self.mlp(x)\n",
    "    \n",
    "    def forward(self, x, n_iter):\n",
    "        for _ in range(n_iter):\n",
    "            x = self.iterate_once(x)\n",
    "        return x\n",
    "    \n",
    "    \n",
    "\n",
    "class BasicRNN(nn.Module):\n",
    "\n",
    "    def __init__(self, input_size, hidden_size, output_size):\n",
    "        super(self).__init__()\n",
    "\n",
    "        self.hidden_size = hidden_size\n",
    "        self.rnn = nn.RNN(input_size, hidden_size)\n",
    "\n",
    "    def forward(self, input, hidden):\n",
    "        output, hidden = self.rnn(input, hidden)\n",
    "        # output dims are (seq_len, batch, num_directions * hidden_size)\n",
    "        return output[-1, ...]\n",
    "\n",
    "    def initHidden(self):\n",
    "        return torch.zeros(1, self.hidden_size)\n",
    "\n"
   ]
  },
  {
   "cell_type": "code",
   "execution_count": 23,
   "metadata": {},
   "outputs": [],
   "source": [
    "# Simulate the lorenz system to generate data\n",
    "def lorenz(x, y, z, s=10, r=28, b=2.667):\n",
    "    x_dot = s*(y - x)\n",
    "    y_dot = r*x - y - x*z\n",
    "    z_dot = x*y - b*z\n",
    "    return x_dot, y_dot, z_dot\n",
    "\n",
    "dt = 0.01\n",
    "num_steps = 100\n",
    "\n",
    "xs = np.empty(num_steps + 1)\n",
    "ys = np.empty(num_steps + 1)\n",
    "zs = np.empty(num_steps + 1)\n",
    "\n",
    "xs[0], ys[0], zs[0] = (0., 1., 1.05)\n",
    "\n",
    "for i in range(num_steps):\n",
    "    x_dot, y_dot, z_dot = lorenz(xs[i], ys[i], zs[i])\n",
    "    xs[i + 1] = xs[i] + (x_dot * dt)\n",
    "    ys[i + 1] = ys[i] + (y_dot * dt)\n",
    "    zs[i + 1] = zs[i] + (z_dot * dt)\n"
   ]
  },
  {
   "cell_type": "code",
   "execution_count": 33,
   "metadata": {},
   "outputs": [
    {
     "name": "stdout",
     "output_type": "stream",
     "text": [
      "Iteration 0, loss: 333.3638610839844\n",
      "Iteration 100, loss: 244.08346557617188\n",
      "Iteration 200, loss: 204.66827392578125\n",
      "Iteration 300, loss: 144.39183044433594\n",
      "Iteration 400, loss: 142.29037475585938\n",
      "Iteration 500, loss: 110.84786224365234\n",
      "Iteration 600, loss: 106.89539337158203\n",
      "Iteration 700, loss: 102.91163635253906\n",
      "Iteration 800, loss: 98.984130859375\n",
      "Iteration 900, loss: 95.51801300048828\n"
     ]
    }
   ],
   "source": [
    "model1 = AutoRegressiveMLP(3, 16)\n",
    "\n",
    "# Convert the data to torch tensors\n",
    "data = torch.tensor(np.vstack([xs, ys, zs]).T, dtype=torch.float32)\n",
    "\n",
    "# Train the model\n",
    "criterion = nn.MSELoss()\n",
    "optimizer = torch.optim.Adam(model1.parameters(), lr=0.001)\n",
    "\n",
    "all_losses = []\n",
    "n_iter = 1000\n",
    "for i in range(n_iter):\n",
    "    optimizer.zero_grad()\n",
    "    output = model1(data[:-1, :], 100)\n",
    "    loss = criterion(output, data[1:, :])\n",
    "    loss.backward()\n",
    "    optimizer.step()\n",
    "    all_losses.append(loss.item())\n",
    "\n",
    "    if i % 100 == 0:\n",
    "        print(f\"Iteration {i}, loss: {loss.item()}\")"
   ]
  },
  {
   "cell_type": "code",
   "execution_count": null,
   "metadata": {},
   "outputs": [],
   "source": []
  },
  {
   "cell_type": "code",
   "execution_count": 36,
   "metadata": {},
   "outputs": [
    {
     "data": {
      "text/plain": [
       "torch.Size([101, 3])"
      ]
     },
     "execution_count": 36,
     "metadata": {},
     "output_type": "execute_result"
    }
   ],
   "source": [
    "data.shape"
   ]
  },
  {
   "cell_type": "code",
   "execution_count": 34,
   "metadata": {},
   "outputs": [
    {
     "data": {
      "text/plain": [
       "torch.Size([100, 3])"
      ]
     },
     "execution_count": 34,
     "metadata": {},
     "output_type": "execute_result"
    }
   ],
   "source": [
    "output.shape"
   ]
  },
  {
   "cell_type": "code",
   "execution_count": 32,
   "metadata": {},
   "outputs": [
    {
     "data": {
      "text/plain": [
       "[<matplotlib.lines.Line2D at 0x7465d4b34790>]"
      ]
     },
     "execution_count": 32,
     "metadata": {},
     "output_type": "execute_result"
    },
    {
     "data": {
      "image/png": "[encoded data removed]",
      "text/plain": [
       "<Figure size 640x480 with 1 Axes>"
      ]
     },
     "metadata": {},
     "output_type": "display_data"
    }
   ],
   "source": [
    "plt.plot(all_losses)"
   ]
  },
  {
   "cell_type": "code",
   "execution_count": null,
   "metadata": {},
   "outputs": [],
   "source": []
  },
  {
   "cell_type": "code",
   "execution_count": null,
   "metadata": {},
   "outputs": [],
   "source": []
  }
 ],
 "metadata": {
  "kernelspec": {
   "display_name": "base",
   "language": "python",
   "name": "python3"
  },
  "language_info": {
   "codemirror_mode": {
    "name": "ipython",
    "version": 3
   },
   "file_extension": ".py",
   "mimetype": "text/x-python",
   "name": "python",
   "nbconvert_exporter": "python",
   "pygments_lexer": "ipython3",
   "version": "3.11.6"
  }
 },
 "nbformat": 4,
 "nbformat_minor": 2
}
